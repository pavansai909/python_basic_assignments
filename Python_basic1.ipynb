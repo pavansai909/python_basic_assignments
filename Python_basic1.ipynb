{
 "cells": [
  {
   "cell_type": "markdown",
   "id": "31b1f659",
   "metadata": {},
   "source": [
    " # 1. In the below elements which of them are values or an expression? \n",
    "  eg:- values can be integer or string and expressions will be mathematical operators.\n",
    "    *\n",
    "    'hello'\n",
    "    -87.8\n",
    "    -\n",
    "    /\n",
    "    +\n",
    "    6"
   ]
  },
  {
   "cell_type": "markdown",
   "id": "1e6075a1",
   "metadata": {},
   "source": [
    "Solution: The values are 'hello', -87.8, and 6.   The expressions are  *,- ,/,+"
   ]
  },
  {
   "cell_type": "markdown",
   "id": "e77a8e03",
   "metadata": {},
   "source": [
    "## 2.What is the difference between string and variable?"
   ]
  },
  {
   "cell_type": "markdown",
   "id": "f5c78f5d",
   "metadata": {},
   "source": [
    "Solution: String is value that could be represented in text . For example: \"Pavan\", \"motorcycle\",etc..,.   The variable is a name which refers to another value. We can assign any data type values to a variable. \n",
    "For example, if a = 5, then value of 5 is assigned to a variable"
   ]
  },
  {
   "cell_type": "markdown",
   "id": "5542b574",
   "metadata": {},
   "source": [
    "## 3.Describe three different data types."
   ]
  },
  {
   "cell_type": "markdown",
   "id": "844ca7ae",
   "metadata": {},
   "source": [
    "Solution: \n",
    "- Integer : A Numeric data type which holds all the negative and positive whole numbers.\n",
    "- String : A sequence data type which holds one or more characters enclosed in quotation marks.\n",
    "- Float : A Numeric data type which holds all the decimal points. "
   ]
  },
  {
   "cell_type": "markdown",
   "id": "4740e6bb",
   "metadata": {},
   "source": [
    "## 4. What is an expression made up of? What do all expressions do?"
   ]
  },
  {
   "cell_type": "markdown",
   "id": "860f1e8b",
   "metadata": {},
   "source": [
    "Solution: \n",
    "- An expression is a combination of operators and operands that is interpreted to produce some other value. In any programming language, an expression is evaluated as per the precedence of its operators. So that if there is more than one operator in an expression, their precedence decides which operation will be performed first"
   ]
  },
  {
   "cell_type": "markdown",
   "id": "870848c2",
   "metadata": {},
   "source": [
    "## 5.This assignment statements, like spam = 10. What is the difference between an expression and a statement?"
   ]
  },
  {
   "cell_type": "markdown",
   "id": "e991fbf4",
   "metadata": {},
   "source": [
    "Solution:\n",
    "- Statement : It is an instruction that the python interpreter can execute.\n",
    "- Expression : Evaluates to a value. \n",
    "- EX : spam = 10 # a statement , \n",
    "    spam +10  # an expression"
   ]
  },
  {
   "cell_type": "markdown",
   "id": "a6d7f4ff",
   "metadata": {},
   "source": [
    "## 6. After running the following code, what does the variable bacon contain?\n",
    "### bacon = 22\n",
    "### bacon + 1"
   ]
  },
  {
   "cell_type": "markdown",
   "id": "8bf5b6b0",
   "metadata": {},
   "source": [
    "Solution: The bacon variable contain 22 after running the code. "
   ]
  },
  {
   "cell_type": "markdown",
   "id": "58b7762a",
   "metadata": {},
   "source": [
    "## 7. What should the values of the following two terms be?\n",
    "### 'spam' + 'spamspam'\n",
    "### 'spam' * 3"
   ]
  },
  {
   "cell_type": "markdown",
   "id": "01093b8e",
   "metadata": {},
   "source": [
    "Solution: Both the terms express the same as a result. 'spamspamspam'."
   ]
  },
  {
   "cell_type": "markdown",
   "id": "f895a8f8",
   "metadata": {},
   "source": [
    "## 8. Why is eggs a valid variable name while 100 is invalid?"
   ]
  },
  {
   "cell_type": "markdown",
   "id": "676b7d8b",
   "metadata": {},
   "source": [
    "Solution: The variable is prohibited to started numerical value"
   ]
  },
  {
   "cell_type": "markdown",
   "id": "9fd85208",
   "metadata": {},
   "source": [
    "## 9. What three functions can be used to get the integer, floating-point number, or string version of a value?"
   ]
  },
  {
   "cell_type": "markdown",
   "id": "4f2f7f6c",
   "metadata": {},
   "source": [
    "Solution: The int(), float(), and str() functions will evaluate to the integer, floating-point number, and string versions of a value"
   ]
  },
  {
   "cell_type": "markdown",
   "id": "fe786f48",
   "metadata": {},
   "source": [
    "## 10. Why does this expression cause an error? How can you fix it?\n",
    "### 'I have eaten' + 99 + 'burritos.'"
   ]
  },
  {
   "cell_type": "markdown",
   "id": "cf5c6407",
   "metadata": {},
   "source": [
    "Solution: This will result in an error because the 99 is an integer and we cannot add a string and a number. Hence, to fix it, we convert 99 to string as shown below.\n",
    "'I have eaten' + '99' + 'burritos.'\n"
   ]
  },
  {
   "cell_type": "code",
   "execution_count": null,
   "id": "bce448c6",
   "metadata": {},
   "outputs": [],
   "source": []
  }
 ],
 "metadata": {
  "kernelspec": {
   "display_name": "Python 3",
   "language": "python",
   "name": "python3"
  },
  "language_info": {
   "codemirror_mode": {
    "name": "ipython",
    "version": 3
   },
   "file_extension": ".py",
   "mimetype": "text/x-python",
   "name": "python",
   "nbconvert_exporter": "python",
   "pygments_lexer": "ipython3",
   "version": "3.8.8"
  }
 },
 "nbformat": 4,
 "nbformat_minor": 5
}
