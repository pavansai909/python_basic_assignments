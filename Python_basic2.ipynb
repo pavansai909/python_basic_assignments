{
 "cells": [
  {
   "cell_type": "markdown",
   "id": "2532f11d",
   "metadata": {},
   "source": [
    "## 1.What are the two values of the Boolean data type? How do you write them?\n"
   ]
  },
  {
   "cell_type": "markdown",
   "id": "0b29d325",
   "metadata": {},
   "source": [
    "The two values of boolean data type are 1. True and 2. False"
   ]
  },
  {
   "cell_type": "code",
   "execution_count": 1,
   "id": "e6f665bb",
   "metadata": {},
   "outputs": [
    {
     "name": "stdout",
     "output_type": "stream",
     "text": [
      "True\n",
      "False\n"
     ]
    }
   ],
   "source": [
    "#Example\n",
    "print(3 > 2)\n",
    "print(5 < 2)"
   ]
  },
  {
   "cell_type": "markdown",
   "id": "855f05b3",
   "metadata": {},
   "source": [
    "## 2. What are the three different types of Boolean operators?\n"
   ]
  },
  {
   "cell_type": "markdown",
   "id": "8e4ced92",
   "metadata": {},
   "source": [
    "The three different Boolean operators are :and , or  & not"
   ]
  },
  {
   "cell_type": "code",
   "execution_count": 2,
   "id": "74196cba",
   "metadata": {},
   "outputs": [
    {
     "name": "stdout",
     "output_type": "stream",
     "text": [
      "True\n",
      "False\n",
      "True\n"
     ]
    }
   ],
   "source": [
    "#Example\n",
    "print((10 > 9) and (7 < 9))\n",
    "print((10 < 9) or (7 > 9))\n",
    "print(not(10<9))"
   ]
  },
  {
   "cell_type": "markdown",
   "id": "4fe9a544",
   "metadata": {},
   "source": [
    "## 3. Make a list of each Boolean operator&#39;s truth tables (i.e. every possible combination of Boolean values for the operator and what it evaluate ).\n"
   ]
  },
  {
   "cell_type": "markdown",
   "id": "828c526f",
   "metadata": {},
   "source": [
    "- Truth Table for and: True and True is True , True and False is False , False and True is False , False and False is False\n",
    "\n",
    "- Truth Table for or: True or True is True , True or False is True , False or True is True , False or False is False\n",
    "\n",
    "- Truth Table for not: not True is False ,  not False is True"
   ]
  },
  {
   "cell_type": "markdown",
   "id": "67d0d374",
   "metadata": {},
   "source": [
    "## 4. What are the values of the following expressions?\n",
    "(5 &gt; 4) and (3 == 5)\n",
    "not (5 &gt; 4)\n",
    "(5 &gt; 4) or (3 == 5)\n",
    "not ((5 &gt; 4) or (3 == 5))\n",
    "(True and True) and (True == False)\n",
    "(not False) or (not True)\n"
   ]
  },
  {
   "cell_type": "markdown",
   "id": "0a3d99ac",
   "metadata": {},
   "source": [
    "Solution:\n",
    "- (5 > 4) and (3 == 5) : False \n",
    "- not (5 > 4) : False \n",
    "- (5 > 4) or (3 == 5) : True \n",
    "- not ((5 > 4) or (3 == 5)) : False \n",
    "- (True and True) and (True == False) : False \n",
    "- (not False) or (not True) : True"
   ]
  },
  {
   "cell_type": "markdown",
   "id": "2b301668",
   "metadata": {},
   "source": [
    "## 5. What are the six comparison operators?\n"
   ]
  },
  {
   "cell_type": "markdown",
   "id": "912a70d7",
   "metadata": {},
   "source": [
    "Comparison Operators are: \n",
    "- equal to ==,\n",
    "- greater than  >,\n",
    "- less than  <,\n",
    "- greater than equal to   >=,\n",
    "- Less than equal to   <= ,\n",
    "- Not equal to != "
   ]
  },
  {
   "cell_type": "markdown",
   "id": "c3e0efb0",
   "metadata": {},
   "source": [
    "## 6. How do you tell the difference between the equal to and assignment operators?Describe a condition and when you would use one.\n"
   ]
  },
  {
   "cell_type": "markdown",
   "id": "b502201e",
   "metadata": {},
   "source": [
    "- Equal to: It is used when we need to compare two variables and gives a boolean value as output.\n",
    "- Assignment Operator: Is used for storing the value of a variable.\n",
    "\n",
    "EX : a = 10 # assignment operator a == 10 # equal to"
   ]
  },
  {
   "cell_type": "code",
   "execution_count": 4,
   "id": "6c09ce9d",
   "metadata": {},
   "outputs": [
    {
     "name": "stdout",
     "output_type": "stream",
     "text": [
      "10\n",
      "True\n"
     ]
    }
   ],
   "source": [
    "a = 10\n",
    "print(a)\n",
    "print(a == 10)  "
   ]
  },
  {
   "cell_type": "markdown",
   "id": "d3fd8914",
   "metadata": {},
   "source": [
    "## 7. Identify the three blocks in this code:\n",
    "spam = 0\n",
    "if spam == 10:\n",
    "print(&#39;eggs&#39;)\n",
    "if spam &gt; 5:\n",
    "print(&#39;bacon&#39;)\n",
    "else:\n",
    "print(&#39;ham&#39;)\n",
    "print(&#39;spam&#39;)\n",
    "print(&#39;spam&#39;)\n"
   ]
  },
  {
   "cell_type": "markdown",
   "id": "b740e1ea",
   "metadata": {},
   "source": [
    "- The Three blocks are everything inside the if statement and the lines print('bacon') and print('ham')\n",
    "\n",
    "- if spam == 10: print('eggs') if spam > 5: print('becon') else: print('ham')"
   ]
  },
  {
   "cell_type": "markdown",
   "id": "01ac0e12",
   "metadata": {},
   "source": [
    "## 8. Write code that prints Hello if 1 is stored in spam, prints Howdy if 2 is stored in spam, and prints\n",
    "Greetings! if anything else is stored in spam.\n",
    "\n"
   ]
  },
  {
   "cell_type": "code",
   "execution_count": 5,
   "id": "966d2fb8",
   "metadata": {},
   "outputs": [
    {
     "name": "stdout",
     "output_type": "stream",
     "text": [
      "Enter a number: 1\n",
      "Hello\n"
     ]
    }
   ],
   "source": [
    "spam = int(input(\"Enter a number: \"))\n",
    "if spam == 1:\n",
    "    print(\"Hello\")\n",
    "elif spam == 2:\n",
    "    print(\"Howdy\")\n",
    "else:\n",
    "    print(\"Greetings!\")"
   ]
  },
  {
   "cell_type": "markdown",
   "id": "7b4735e2",
   "metadata": {},
   "source": [
    "## 9.If your programme is stuck in an endless loop, what keys you’ll press?\n"
   ]
  },
  {
   "cell_type": "markdown",
   "id": "a327a92b",
   "metadata": {},
   "source": [
    "- CLTR-C to stop the program which is stuck in an endless loop In jupyter notebook we can stop and start the Kernel"
   ]
  },
  {
   "cell_type": "markdown",
   "id": "f0d54582",
   "metadata": {},
   "source": [
    "## 10. How can you tell the difference between break and continue?\n"
   ]
  },
  {
   "cell_type": "markdown",
   "id": "27311123",
   "metadata": {},
   "source": [
    "- Break : will stop the execution of a statement if the condition satisfies and prints out the result. It halts the loop from further execution. \n",
    "- Continue : will skip the satisfied condition in the loop and again continue to evaluate. It skips the single statement and continues to execute."
   ]
  },
  {
   "cell_type": "code",
   "execution_count": 8,
   "id": "9b365016",
   "metadata": {},
   "outputs": [
    {
     "name": "stdout",
     "output_type": "stream",
     "text": [
      " Hyder\n"
     ]
    }
   ],
   "source": [
    "# Example for break\n",
    "name = \"Hyderabad\"\n",
    "name1 = \" \"\n",
    "for i in range(len(name)):\n",
    "    \n",
    "    if name[i] == 'a':\n",
    "        break\n",
    "    name1 = name1 + name[i]    \n",
    "print(name1)  "
   ]
  },
  {
   "cell_type": "code",
   "execution_count": 9,
   "id": "c5957335",
   "metadata": {},
   "outputs": [
    {
     "name": "stdout",
     "output_type": "stream",
     "text": [
      " Pvn\n"
     ]
    }
   ],
   "source": [
    "#Example for continue\n",
    "name = \"Pavan\"\n",
    "name1 = \" \"\n",
    "for i in range(len(name)):\n",
    "    \n",
    "    if name[i] == 'a':\n",
    "        continue\n",
    "    name1 = name1 + name[i]    \n",
    "print(name1)"
   ]
  },
  {
   "cell_type": "markdown",
   "id": "4e3de5d8",
   "metadata": {},
   "source": [
    "## 11. In a for loop, what is the difference between range(10), range(0, 10), and range(0, 10, 1)?\n"
   ]
  },
  {
   "cell_type": "markdown",
   "id": "d2edbd12",
   "metadata": {},
   "source": [
    "- Both range(10) and range(0,10) and range(0,10,1)are same because all gives numbers from 0 to 9. \n",
    "- But in range(0,10,1) it is just the stepsize we are declaring how to increase from 0 with an increment of 1."
   ]
  },
  {
   "cell_type": "markdown",
   "id": "51857b0c",
   "metadata": {},
   "source": [
    "## 12. Write a short program that prints the numbers 1 to 10 using a for loop. Then write an equivalent program that prints the numbers 1 to 10 using a while loop.\n"
   ]
  },
  {
   "cell_type": "code",
   "execution_count": 11,
   "id": "37938ba2",
   "metadata": {
    "scrolled": true
   },
   "outputs": [
    {
     "name": "stdout",
     "output_type": "stream",
     "text": [
      "1\n",
      "2\n",
      "3\n",
      "4\n",
      "5\n",
      "6\n",
      "7\n",
      "8\n",
      "9\n",
      "10\n"
     ]
    }
   ],
   "source": [
    "# Example for :\n",
    "for i in range(1,11):\n",
    "    print(i)"
   ]
  },
  {
   "cell_type": "code",
   "execution_count": 14,
   "id": "d7b4098b",
   "metadata": {},
   "outputs": [
    {
     "name": "stdout",
     "output_type": "stream",
     "text": [
      "1\n",
      "2\n",
      "3\n",
      "4\n",
      "5\n",
      "6\n",
      "7\n",
      "8\n",
      "9\n",
      "10\n"
     ]
    }
   ],
   "source": [
    "#Example while\n",
    "i = 1\n",
    "while i>0 and i<=10:\n",
    "    print(i)\n",
    "    i = i + 1"
   ]
  },
  {
   "cell_type": "markdown",
   "id": "aee22380",
   "metadata": {},
   "source": [
    "## 13. If you had a function named bacon() inside a module named spam, how would you call it after importing spam?"
   ]
  },
  {
   "cell_type": "markdown",
   "id": "aadbad50",
   "metadata": {},
   "source": [
    "Solution : -\n",
    "<br>spam.bacon()"
   ]
  }
 ],
 "metadata": {
  "kernelspec": {
   "display_name": "Python 3 (ipykernel)",
   "language": "python",
   "name": "python3"
  },
  "language_info": {
   "codemirror_mode": {
    "name": "ipython",
    "version": 3
   },
   "file_extension": ".py",
   "mimetype": "text/x-python",
   "name": "python",
   "nbconvert_exporter": "python",
   "pygments_lexer": "ipython3",
   "version": "3.9.7"
  }
 },
 "nbformat": 4,
 "nbformat_minor": 5
}
